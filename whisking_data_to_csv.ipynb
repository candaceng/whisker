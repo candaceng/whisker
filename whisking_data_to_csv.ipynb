{
 "cells": [
  {
   "cell_type": "code",
   "execution_count": 9,
   "metadata": {},
   "outputs": [],
   "source": [
    "import scipy.io\n",
    "import numpy as np\n",
    "import os\n",
    "import csv"
   ]
  },
  {
   "cell_type": "code",
   "execution_count": 12,
   "metadata": {},
   "outputs": [],
   "source": [
    "# Load the .mat file\n",
    "file_path = r\"rat/sinusoidal_trajectories/ratWhiskingOrientations_n10to40deg_1hz_30fps.mat\"\n",
    "mat_contents = scipy.io.loadmat(file_path)\n",
    "\n",
    "# Extract whisking data\n",
    "right_whisking = mat_contents[\"ratWhiskingOrientations\"][\"right\"][0, 0]\n",
    "left_whisking = mat_contents[\"ratWhiskingOrientations\"][\"left\"][0, 0]"
   ]
  },
  {
   "cell_type": "code",
   "execution_count": 13,
   "metadata": {},
   "outputs": [],
   "source": [
    "# Function to convert Bullet Physics (right-handed) to Unity (left-handed)\n",
    "def convert_euler_angles(theta, phi, zeta):\n",
    "    # Negate Y-axis rotation (phi) to switch handedness\n",
    "    return np.array([theta, -phi, zeta])\n",
    "\n",
    "# Function to convert Bullet Physics (right-handed) to Unity (left-handed)\n",
    "def convert_euler_angles(theta, phi, zeta):\n",
    "    return np.array([theta, -phi, zeta])  # Negate Y-axis rotation"
   ]
  },
  {
   "cell_type": "code",
   "execution_count": 14,
   "metadata": {},
   "outputs": [
    {
     "name": "stdout",
     "output_type": "stream",
     "text": [
      "CSV files saved in 'whisking_csv' directory.\n"
     ]
    }
   ],
   "source": [
    "# Create output directory\n",
    "output_dir = \"whisking_csv\"\n",
    "os.makedirs(output_dir, exist_ok=True)\n",
    "\n",
    "# Function to save all whiskers in one CSV per side\n",
    "def save_all_whiskers_csv(data, side):\n",
    "    file_path = os.path.join(output_dir, f\"{side}_whiskers.csv\")\n",
    "    with open(file_path, mode=\"w\", newline=\"\") as file:\n",
    "        writer = csv.writer(file)\n",
    "        \n",
    "        # Create header: theta_0, phi_0, zeta_0, ..., theta_29, phi_29, zeta_29\n",
    "        header = []\n",
    "        for i in range(30):  # 30 whiskers\n",
    "            header.extend([f\"theta_{i}\", f\"phi_{i}\", f\"zeta_{i}\"])\n",
    "        writer.writerow(header)\n",
    "        \n",
    "        # Write 30 frames of data\n",
    "        for frame in range(30):\n",
    "            row = []\n",
    "            for whisker in range(30):\n",
    "                angles = convert_euler_angles(\n",
    "                    data[0][0][0][whisker][frame], \n",
    "                    data[0][0][1][whisker][frame], \n",
    "                    data[0][0][2][whisker][frame]\n",
    "                )\n",
    "                row.extend(angles)\n",
    "            writer.writerow(row)\n",
    "\n",
    "# Save right and left whiskers in separate CSVs\n",
    "save_all_whiskers_csv(right_whisking, \"right\")\n",
    "save_all_whiskers_csv(left_whisking, \"left\")\n",
    "\n",
    "print(f\"CSV files saved in '{output_dir}' directory.\")"
   ]
  },
  {
   "cell_type": "code",
   "execution_count": null,
   "metadata": {},
   "outputs": [],
   "source": []
  }
 ],
 "metadata": {
  "kernelspec": {
   "display_name": "Python 3",
   "language": "python",
   "name": "python3"
  },
  "language_info": {
   "codemirror_mode": {
    "name": "ipython",
    "version": 3
   },
   "file_extension": ".py",
   "mimetype": "text/x-python",
   "name": "python",
   "nbconvert_exporter": "python",
   "pygments_lexer": "ipython3",
   "version": "3.11.5"
  }
 },
 "nbformat": 4,
 "nbformat_minor": 2
}

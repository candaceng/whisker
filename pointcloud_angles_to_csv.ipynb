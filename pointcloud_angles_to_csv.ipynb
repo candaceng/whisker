{
 "cells": [
  {
   "cell_type": "code",
   "execution_count": 5,
   "metadata": {},
   "outputs": [],
   "source": [
    "import scipy.io\n",
    "import numpy as np\n",
    "import pandas as pd\n",
    "\n",
    "# Load the .mat file\n",
    "file_path = r\"rat/sinusoidal_trajectories/ratWhiskingPointClouds_n10to40deg_1hz_30fps.mat\"\n",
    "mat_data = scipy.io.loadmat(file_path)['ratWhiskingArray']\n",
    "\n"
   ]
  },
  {
   "cell_type": "code",
   "execution_count": 22,
   "metadata": {},
   "outputs": [],
   "source": [
    "# Extract right and left whisker data\n",
    "right_whiskers = mat_data[:, 0]  # Shape: (30,), each is (100, 3, 30)\n",
    "left_whiskers = mat_data[:, 1]   # Shape: (30,), each is (100, 3, 30)\n",
    "\n",
    "# Function to save whisker data\n",
    "def save_whisker_csv(whiskers, side):\n",
    "    for frame_idx in range(30):  # 30 frames\n",
    "        frame_data = []\n",
    "        \n",
    "        # Extract the (100, 3, 30) array for this frame\n",
    "        frame_whiskers = whiskers[frame_idx]  # Shape: (100, 3, 30)\n",
    "\n",
    "        for whisker_idx in range(30):  # 30 whiskers per side\n",
    "            points = frame_whiskers[:, :, whisker_idx]  # Shape: (100, 3)\n",
    "\n",
    "            for point_idx in range(points.shape[0]):  # 100 points\n",
    "                x, y, z = points[point_idx, :]  # Extract coordinates\n",
    "                frame_data.append([frame_idx, whisker_idx, point_idx, x, y, z])\n",
    "\n",
    "        # Save CSV per frame\n",
    "        df = pd.DataFrame(frame_data, columns=[\"Frame\", \"WhiskerIndex\", \"PointIndex\", \"X\", \"Y\", \"Z\"])\n",
    "        df.to_csv(f\"{side}_whiskers_frame_{frame_idx}.csv\", index=False)\n",
    "\n",
    "# Save CSVs\n",
    "save_whisker_csv(right_whiskers, \"right\")\n",
    "save_whisker_csv(left_whiskers, \"left\")"
   ]
  },
  {
   "cell_type": "code",
   "execution_count": null,
   "metadata": {},
   "outputs": [],
   "source": []
  }
 ],
 "metadata": {
  "kernelspec": {
   "display_name": "Python 3",
   "language": "python",
   "name": "python3"
  },
  "language_info": {
   "codemirror_mode": {
    "name": "ipython",
    "version": 3
   },
   "file_extension": ".py",
   "mimetype": "text/x-python",
   "name": "python",
   "nbconvert_exporter": "python",
   "pygments_lexer": "ipython3",
   "version": "3.11.5"
  }
 },
 "nbformat": 4,
 "nbformat_minor": 2
}

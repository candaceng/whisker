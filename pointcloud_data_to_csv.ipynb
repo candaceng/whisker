{
 "cells": [
  {
   "cell_type": "code",
   "execution_count": 5,
   "metadata": {},
   "outputs": [],
   "source": [
    "import scipy.io\n",
    "import numpy as np\n",
    "import csv\n",
    "import os\n",
    "\n",
    "NUM_ANGLES = 51\n",
    "NUM_WHISKERS = 30\n",
    "FILE_PATH = 'C:\\\\whiskitphysics\\\\code\\\\data\\\\whisker_param_average_rat\\\\'"
   ]
  },
  {
   "cell_type": "code",
   "execution_count": 2,
   "metadata": {},
   "outputs": [],
   "source": [
    "def read_csv_string(file_path):\n",
    "    data = list()\n",
    "    with open(file_path, 'r') as file:\n",
    "        csvreader = csv.reader(file)\n",
    "        for row in csvreader: \n",
    "            data.append(row)\n",
    "            \n",
    "    return data"
   ]
  },
  {
   "cell_type": "code",
   "execution_count": 3,
   "metadata": {},
   "outputs": [],
   "source": [
    "whisker_names = read_csv_string(FILE_PATH+\"param_name.csv\")\n",
    "matlab_data = scipy.io.loadmat('rat/ratWhiskingArrayByDeg.mat')['ratWhiskingArray']  "
   ]
  },
  {
   "cell_type": "code",
   "execution_count": 7,
   "metadata": {},
   "outputs": [],
   "source": [
    "for i in range(NUM_ANGLES):\n",
    "    right_whiskers = matlab_data[i][0]\n",
    "    left_whiskers = matlab_data[i][1]\n",
    "    \n",
    "    angle_folder = f'rat/point_clouds/angle_{i}'\n",
    "    os.makedirs(angle_folder, exist_ok=True)  # Create folder for each angle if it doesn't exist\n",
    "    \n",
    "    for j in range(NUM_WHISKERS):\n",
    "        np.savetxt(f'{angle_folder}/{whisker_names[j][0]}.csv', right_whiskers[:, :, j], delimiter=',')\n",
    "        np.savetxt(f'{angle_folder}/{whisker_names[j+30][0]}.csv', left_whiskers[:, :, j], delimiter=',')"
   ]
  }
 ],
 "metadata": {
  "kernelspec": {
   "display_name": "Python 3",
   "language": "python",
   "name": "python3"
  },
  "language_info": {
   "codemirror_mode": {
    "name": "ipython",
    "version": 3
   },
   "file_extension": ".py",
   "mimetype": "text/x-python",
   "name": "python",
   "nbconvert_exporter": "python",
   "pygments_lexer": "ipython3",
   "version": "3.11.5"
  }
 },
 "nbformat": 4,
 "nbformat_minor": 2
}
